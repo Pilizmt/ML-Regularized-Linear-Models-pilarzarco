{
 "cells": [
  {
   "cell_type": "markdown",
   "metadata": {},
   "source": []
  },
  {
   "cell_type": "code",
   "execution_count": 1,
   "metadata": {},
   "outputs": [],
   "source": [
    "import pandas as pd"
   ]
  },
  {
   "cell_type": "markdown",
   "metadata": {},
   "source": []
  },
  {
   "cell_type": "code",
   "execution_count": null,
   "metadata": {},
   "outputs": [],
   "source": [
    "X_train = pd.read_csv(\"/workspaces/ML-Regularized-Linear-Models-pilarzarco/models/X_train.csvv\")\n",
    "y_train = pd.read_csv(\"/workspaces/ML-Regularized-Linear-Models-pilarzarco/models/y_train.csvv\")\n",
    "\n",
    "X_test = pd.read_csv(\"/workspaces/ML-Regularized-Linear-Models-pilarzarco/models/X_test.csv\")\n",
    "y_test = pd.read_csv(\"/workspaces/ML-Regularized-Linear-Models-pilarzarco/models/y_test.csv\")\n",
    "\n",
    "df = pd.read_csv(\"/workspaces/ML-Decision-Tree-PilarZarco/data/raw/diabete.csv\")\n",
    "\n",
    "X_train.head()\n"
   ]
  },
  {
   "cell_type": "markdown",
   "metadata": {},
   "source": []
  },
  {
   "cell_type": "code",
   "execution_count": null,
   "metadata": {},
   "outputs": [],
   "source": [
    "from sklearn.linear_model import LinearRegression, Lasso\n",
    "\n",
    "linear_model = LinearRegression()\n",
    "linear_model.fit(X_train_scaled, y_train)"
   ]
  },
  {
   "cell_type": "code",
   "execution_count": null,
   "metadata": {},
   "outputs": [],
   "source": [
    "from sklearn.linear_model import Lasso\n",
    "import numpy as np\n",
    "import matplotlib.pyplot as plt\n",
    "\n",
    "# Lista para almacenar los valores de R^2\n",
    "r2_values_lasso = []\n",
    "\n",
    "# Hiperparámetros para probar\n",
    "alphas = np.arange(0, 21, 1)\n",
    "\n",
    "for alpha in alphas:\n",
    "    # Construir un modelo Lasso\n",
    "    lasso_model = Lasso(alpha=alpha)\n",
    "    lasso_model.fit(X_train, y_train)\n",
    "\n",
    "    # Predecir con el modelo Lasso en el conjunto de prueba\n",
    "    y_pred_lasso = lasso_model.predict(X_test)\n",
    "\n",
    "    # Calcular el R^2 y almacenar el valor\n",
    "    r2_lasso = r2_score(y_test, y_pred_lasso)\n",
    "    r2_values_lasso.append(r2_lasso)\n",
    "\n",
    "# Visualizar la evolución del R^2 con respecto al hiperparámetro alpha\n",
    "plt.plot(alphas, r2_values_lasso, marker='o')\n",
    "plt.xlabel('Valor de alpha')\n",
    "plt.ylabel('R^2')\n",
    "plt.title('Evolución del R^2 para el modelo Lasso')\n",
    "plt.show()\n"
   ]
  },
  {
   "cell_type": "code",
   "execution_count": null,
   "metadata": {},
   "outputs": [],
   "source": [
    "# Inicializa el modelo LassoCV con una secuencia de valores de alfa\n",
    "alphas = np.linspace(0.1, 20, 100)\n",
    "lasso_cv = LassoCV(alphas=alphas, cv=5)\n",
    "\n",
    "# Ajusta el modelo a tus datos\n",
    "lasso_cv.fit(X_train, y_train)\n",
    "\n",
    "# Obtiene los valores de R^2 para cada valor de alfa\n",
    "r2_values = []\n",
    "\n",
    "for alpha in alphas:\n",
    "    lasso = LassoCV(alphas=[alpha], cv=5)\n",
    "    lasso.fit(X_train, y_train)\n",
    "    y_pred = lasso.predict(X_test)\n",
    "    r2_values.append(r2_score(y_test, y_pred))\n",
    "\n",
    "# Dibuja un diagrama de líneas para mostrar la evolución de R^2\n",
    "plt.figure(figsize=(10, 6))\n",
    "plt.plot(alphas, r2_values, marker='o')\n",
    "plt.title('Evolución de R^2 con cambios en el hiperparámetro Lasso')\n",
    "plt.xlabel('Valor de Alfa')\n",
    "plt.ylabel('R^2')\n",
    "plt.grid(True)\n",
    "plt.show()"
   ]
  }
 ],
 "metadata": {
  "kernelspec": {
   "display_name": "Python 3",
   "language": "python",
   "name": "python3"
  },
  "language_info": {
   "codemirror_mode": {
    "name": "ipython",
    "version": 3
   },
   "file_extension": ".py",
   "mimetype": "text/x-python",
   "name": "python",
   "nbconvert_exporter": "python",
   "pygments_lexer": "ipython3",
   "version": "3.11.4"
  }
 },
 "nbformat": 4,
 "nbformat_minor": 2
}
